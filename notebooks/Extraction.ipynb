{
 "cells": [
  {
   "cell_type": "code",
   "execution_count": 1,
   "metadata": {},
   "outputs": [],
   "source": [
    "import psycopg2\n",
    "import pandas as pd"
   ]
  },
  {
   "cell_type": "code",
   "execution_count": 2,
   "metadata": {},
   "outputs": [
    {
     "name": "stderr",
     "output_type": "stream",
     "text": [
      "C:\\Users\\alexc\\AppData\\Local\\Temp\\ipykernel_16828\\1375068136.py:11: UserWarning: pandas only supports SQLAlchemy connectable (engine/connection) or database string URI or sqlite3 DBAPI2 connection. Other DBAPI2 objects are not tested. Please consider using SQLAlchemy.\n",
      "  users_views_content = pd.read_sql_query(\"\"\"\n",
      "C:\\Users\\alexc\\AppData\\Local\\Temp\\ipykernel_16828\\1375068136.py:19: UserWarning: pandas only supports SQLAlchemy connectable (engine/connection) or database string URI or sqlite3 DBAPI2 connection. Other DBAPI2 objects are not tested. Please consider using SQLAlchemy.\n",
      "  users_recommendations_content = pd.read_sql_query(\"\"\"\n",
      "C:\\Users\\alexc\\AppData\\Local\\Temp\\ipykernel_16828\\1375068136.py:27: UserWarning: pandas only supports SQLAlchemy connectable (engine/connection) or database string URI or sqlite3 DBAPI2 connection. Other DBAPI2 objects are not tested. Please consider using SQLAlchemy.\n",
      "  users_favorites_content = pd.read_sql_query(\"\"\"\n",
      "C:\\Users\\alexc\\AppData\\Local\\Temp\\ipykernel_16828\\1375068136.py:35: UserWarning: pandas only supports SQLAlchemy connectable (engine/connection) or database string URI or sqlite3 DBAPI2 connection. Other DBAPI2 objects are not tested. Please consider using SQLAlchemy.\n",
      "  users_user_interactions_content = pd.read_sql_query(\"\"\"\n",
      "C:\\Users\\alexc\\AppData\\Local\\Temp\\ipykernel_16828\\1375068136.py:43: UserWarning: pandas only supports SQLAlchemy connectable (engine/connection) or database string URI or sqlite3 DBAPI2 connection. Other DBAPI2 objects are not tested. Please consider using SQLAlchemy.\n",
      "  users_comments_content = pd.read_sql_query(\"\"\"\n",
      "C:\\Users\\alexc\\AppData\\Local\\Temp\\ipykernel_16828\\1375068136.py:51: UserWarning: pandas only supports SQLAlchemy connectable (engine/connection) or database string URI or sqlite3 DBAPI2 connection. Other DBAPI2 objects are not tested. Please consider using SQLAlchemy.\n",
      "  users_search_history = pd.read_sql_query(\"\"\"\n"
     ]
    }
   ],
   "source": [
    "# Configuración de conexión a la base de datos\n",
    "conn = psycopg2.connect(\n",
    "    database=\"streaming_project\",\n",
    "    user=\"postgres\",\n",
    "    password=\"admin\",\n",
    "    host=\"localhost\",\n",
    "    port=\"5432\"\n",
    ")\n",
    "\n",
    "# 1. Unión entre users y views, con unión a content\n",
    "users_views_content = pd.read_sql_query(\"\"\"\n",
    "    SELECT users.*, views.*, content.*\n",
    "    FROM users\n",
    "    INNER JOIN views ON users.id = views.user_id\n",
    "    INNER JOIN content ON views.content_id = content.id;\n",
    "\"\"\", conn)\n",
    "\n",
    "# 2. Unión entre users y recommendations, con unión a content\n",
    "users_recommendations_content = pd.read_sql_query(\"\"\"\n",
    "    SELECT users.*, recommendations.*, content.*\n",
    "    FROM users\n",
    "    INNER JOIN recommendations ON users.id = recommendations.user_id\n",
    "    INNER JOIN content ON recommendations.content_id = content.id;\n",
    "\"\"\", conn)\n",
    "\n",
    "# 3. Unión entre users y favorites, con unión a content\n",
    "users_favorites_content = pd.read_sql_query(\"\"\"\n",
    "    SELECT users.*, favorites.*, content.*\n",
    "    FROM users\n",
    "    INNER JOIN favorites ON users.id = favorites.user_id\n",
    "    INNER JOIN content ON favorites.content_id = content.id;\n",
    "\"\"\", conn)\n",
    "\n",
    "# 4. Unión entre users y user_interactions, con unión a content\n",
    "users_user_interactions_content = pd.read_sql_query(\"\"\"\n",
    "    SELECT users.*, user_interactions.*, content.*\n",
    "    FROM users\n",
    "    INNER JOIN user_interactions ON users.id = user_interactions.user_id\n",
    "    INNER JOIN content ON user_interactions.content_id = content.id;\n",
    "\"\"\", conn)\n",
    "\n",
    "# 5. Unión entre users y comments, con unión a content\n",
    "users_comments_content = pd.read_sql_query(\"\"\"\n",
    "    SELECT users.*, comments.*, content.*\n",
    "    FROM users\n",
    "    INNER JOIN comments ON users.id = comments.user_id\n",
    "    INNER JOIN content ON comments.content_id = content.id;\n",
    "\"\"\", conn)\n",
    "\n",
    "# 6. Unión entre users y search_history (sin relación con content)\n",
    "users_search_history = pd.read_sql_query(\"\"\"\n",
    "    SELECT users.*, search_history.*\n",
    "    FROM users\n",
    "    INNER JOIN search_history ON users.id = search_history.user_id;\n",
    "\"\"\", conn)\n",
    "\n",
    "# Cerrar la conexión\n",
    "conn.close()\n"
   ]
  },
  {
   "cell_type": "code",
   "execution_count": 3,
   "metadata": {},
   "outputs": [
    {
     "name": "stdout",
     "output_type": "stream",
     "text": [
      "Todos los DataFrames se han guardado en archivos CSV.\n"
     ]
    }
   ],
   "source": [
    "# Lista de DataFrames y sus nombres de archivo correspondientes\n",
    "dataframes = [\n",
    "    (users_views_content, \"users_views_content.csv\"),\n",
    "    (users_recommendations_content, \"users_recommendations_content.csv\"),\n",
    "    (users_favorites_content, \"users_favorites_content.csv\"),\n",
    "    (users_user_interactions_content, \"users_user_interactions_content.csv\"),\n",
    "    (users_comments_content, \"users_comments_content.csv\"),\n",
    "    (users_search_history, \"users_search_history.csv\")\n",
    "]\n",
    "\n",
    "# Guardar cada DataFrame en un archivo CSV\n",
    "for df, filename in dataframes:\n",
    "    df.to_csv(filename, index=False)\n",
    "\n",
    "print(\"Todos los DataFrames se han guardado en archivos CSV.\")"
   ]
  }
 ],
 "metadata": {
  "kernelspec": {
   "display_name": "Python 3",
   "language": "python",
   "name": "python3"
  },
  "language_info": {
   "codemirror_mode": {
    "name": "ipython",
    "version": 3
   },
   "file_extension": ".py",
   "mimetype": "text/x-python",
   "name": "python",
   "nbconvert_exporter": "python",
   "pygments_lexer": "ipython3",
   "version": "3.12.7"
  }
 },
 "nbformat": 4,
 "nbformat_minor": 2
}
